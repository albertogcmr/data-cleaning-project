{
 "cells": [
  {
   "cell_type": "markdown",
   "metadata": {},
   "source": [
    "# data cleaning project: Sharks"
   ]
  },
  {
   "cell_type": "code",
   "execution_count": 1,
   "metadata": {},
   "outputs": [],
   "source": [
    "# imports\n",
    "import pandas as pd\n",
    "\n",
    "\n",
    "# variables\n",
    "FILE_PATH = './input/GSAF5.csv'\n",
    "\n",
    "df = pd.read_csv(FILE_PATH, encoding='latin-1')"
   ]
  },
  {
   "cell_type": "markdown",
   "metadata": {},
   "source": [
    "## Nombres de las columnas"
   ]
  },
  {
   "cell_type": "code",
   "execution_count": 2,
   "metadata": {},
   "outputs": [
    {
     "data": {
      "text/plain": [
       "Index(['Case Number', 'Date', 'Year', 'Type', 'Country', 'Area', 'Location',\n",
       "       'Activity', 'Name', 'Sex ', 'Age', 'Injury', 'Fatal (Y/N)', 'Time',\n",
       "       'Species ', 'Investigator or Source', 'pdf', 'href formula', 'href',\n",
       "       'Case Number.1', 'Case Number.2', 'original order', 'Unnamed: 22',\n",
       "       'Unnamed: 23'],\n",
       "      dtype='object')"
      ]
     },
     "execution_count": 2,
     "metadata": {},
     "output_type": "execute_result"
    }
   ],
   "source": [
    "# Explorando\n",
    "\n",
    "df.columns"
   ]
  },
  {
   "cell_type": "code",
   "execution_count": 3,
   "metadata": {},
   "outputs": [],
   "source": [
    "# cambiamos los nombres de las columnas: a minusculas y eliminando espacios\n",
    "\n",
    "df.columns = df.columns.str.lower().str.strip()"
   ]
  },
  {
   "cell_type": "code",
   "execution_count": 4,
   "metadata": {},
   "outputs": [
    {
     "data": {
      "text/plain": [
       "case number               object\n",
       "date                      object\n",
       "year                       int64\n",
       "type                      object\n",
       "country                   object\n",
       "area                      object\n",
       "location                  object\n",
       "activity                  object\n",
       "name                      object\n",
       "sex                       object\n",
       "age                       object\n",
       "injury                    object\n",
       "fatal (y/n)               object\n",
       "time                      object\n",
       "species                   object\n",
       "investigator or source    object\n",
       "pdf                       object\n",
       "href formula              object\n",
       "href                      object\n",
       "case number.1             object\n",
       "case number.2             object\n",
       "original order             int64\n",
       "unnamed: 22               object\n",
       "unnamed: 23               object\n",
       "dtype: object"
      ]
     },
     "execution_count": 4,
     "metadata": {},
     "output_type": "execute_result"
    }
   ],
   "source": [
    "df.dtypes"
   ]
  },
  {
   "cell_type": "code",
   "execution_count": 5,
   "metadata": {},
   "outputs": [],
   "source": [
    "# las columnas string les hacemos strip()\n",
    "\n",
    "# df[str_cols] = df[str_cols].str.strip()"
   ]
  },
  {
   "cell_type": "markdown",
   "metadata": {},
   "source": [
    "## fatal"
   ]
  },
  {
   "cell_type": "code",
   "execution_count": 6,
   "metadata": {},
   "outputs": [
    {
     "data": {
      "text/plain": [
       "not fatal    4346\n",
       "fatal        1552\n",
       "unknown        94\n",
       "Name: fatal (y/n), dtype: int64"
      ]
     },
     "execution_count": 6,
     "metadata": {},
     "output_type": "execute_result"
    }
   ],
   "source": [
    "def clean_fatal(x): \n",
    "    \n",
    "    if 'y' in str(x).lower(): \n",
    "        return 'fatal'\n",
    "    elif x != 'UNKNOWN': \n",
    "        return 'not fatal'\n",
    "    else: \n",
    "        return 'unknown'\n",
    "    \n",
    "    \n",
    "\n",
    "df['fatal (y/n)'] = df['fatal (y/n)'].apply(clean_fatal)\n",
    "df['fatal (y/n)'].value_counts()"
   ]
  },
  {
   "cell_type": "markdown",
   "metadata": {},
   "source": [
    "## age"
   ]
  },
  {
   "cell_type": "code",
   "execution_count": null,
   "metadata": {},
   "outputs": [],
   "source": [
    "def clean_age(x): \n",
    "    try: \n",
    "        return int(x)\n",
    "    except: \n",
    "        return None\n",
    "\n",
    "df['age'] = df['age'].apply(clean_age)\n",
    "df['age'].value_counts()"
   ]
  },
  {
   "cell_type": "code",
   "execution_count": 13,
   "metadata": {},
   "outputs": [
    {
     "data": {
      "text/plain": [
       "case number                object\n",
       "date                       object\n",
       "year                        int64\n",
       "type                       object\n",
       "country                    object\n",
       "area                       object\n",
       "location                   object\n",
       "activity                   object\n",
       "name                       object\n",
       "sex                        object\n",
       "age                       float64\n",
       "injury                     object\n",
       "fatal (y/n)                object\n",
       "time                       object\n",
       "species                    object\n",
       "investigator or source     object\n",
       "pdf                        object\n",
       "href formula               object\n",
       "href                       object\n",
       "case number.1              object\n",
       "case number.2              object\n",
       "original order              int64\n",
       "unnamed: 22                object\n",
       "unnamed: 23                object\n",
       "shark                      object\n",
       "dtype: object"
      ]
     },
     "execution_count": 13,
     "metadata": {},
     "output_type": "execute_result"
    }
   ],
   "source": [
    "df.dtypes"
   ]
  },
  {
   "cell_type": "markdown",
   "metadata": {},
   "source": [
    "## species"
   ]
  },
  {
   "cell_type": "code",
   "execution_count": 8,
   "metadata": {},
   "outputs": [
    {
     "data": {
      "text/plain": [
       "<bound method Series.unique of 0                                                     NaN\n",
       "1                                                     NaN\n",
       "2                                                     NaN\n",
       "3                                                     NaN\n",
       "4                                               2 m shark\n",
       "5                                                     NaN\n",
       "6                                          3' to 4' shark\n",
       "7                                        Tiger shark, 10?\n",
       "8                                                     NaN\n",
       "9                                                     NaN\n",
       "10                                                    NaN\n",
       "11                                                    NaN\n",
       "12                                            White shark\n",
       "13                                         Bull shark, 6'\n",
       "14                                                    NaN\n",
       "15                                      Bull shark, 3.5 m\n",
       "16                                                    NaN\n",
       "17                                                    NaN\n",
       "18                                      Tiger shark, 10' \n",
       "19                                         Blacktip shark\n",
       "20                                             Blue shark\n",
       "21                                                    NaN\n",
       "22                                            White shark\n",
       "23                                        Nurse shark, 4'\n",
       "24                                                    NaN\n",
       "25                                                    NaN\n",
       "26                                                    NaN\n",
       "27                                         Bull shark, 6'\n",
       "28                                         reef shark, 1m\n",
       "29                                      Tiger shark, 10' \n",
       "                              ...                        \n",
       "5962                                                  NaN\n",
       "5963                                                  NaN\n",
       "5964                                          White shark\n",
       "5965                                                  NaN\n",
       "5966                                      12' tiger shark\n",
       "5967                                                  NaN\n",
       "5968                                                  NaN\n",
       "5969                                                  NaN\n",
       "5970                                                  NaN\n",
       "5971                                                  NaN\n",
       "5972                                                  NaN\n",
       "5973                                                  NaN\n",
       "5974                                                  NaN\n",
       "5975                                                  NaN\n",
       "5976                                                  NaN\n",
       "5977                                                  NaN\n",
       "5978                                                  NaN\n",
       "5979                                                  NaN\n",
       "5980                                                  NaN\n",
       "5981                                                  NaN\n",
       "5982                                                  NaN\n",
       "5983                                         Blue pointer\n",
       "5984                                         Blue pointer\n",
       "5985                                        Blue pointers\n",
       "5986    Said to involve a grey nurse shark that leapt ...\n",
       "5987                                                  NaN\n",
       "5988                                                  NaN\n",
       "5989                                                  NaN\n",
       "5990                                                  NaN\n",
       "5991                                                  NaN\n",
       "Name: species, Length: 5992, dtype: object>"
      ]
     },
     "execution_count": 8,
     "metadata": {},
     "output_type": "execute_result"
    }
   ],
   "source": [
    "df.species.unique"
   ]
  },
  {
   "cell_type": "code",
   "execution_count": 9,
   "metadata": {},
   "outputs": [
    {
     "data": {
      "text/plain": [
       "male       4837\n",
       "female      585\n",
       "unknown     570\n",
       "Name: sex, dtype: int64"
      ]
     },
     "execution_count": 9,
     "metadata": {},
     "output_type": "execute_result"
    }
   ],
   "source": [
    "# sex \n",
    "\n",
    "def clean_sex(text): \n",
    "    text = str(text)\n",
    "    if text.startswith('M'): \n",
    "        return 'male'\n",
    "    elif text.startswith('F'): \n",
    "        return 'female'\n",
    "    else: \n",
    "        return 'unknown'\n",
    "    \n",
    "df.sex = df.sex.apply(clean_sex)\n",
    "\n",
    "df.sex.value_counts()\n"
   ]
  },
  {
   "cell_type": "code",
   "execution_count": 10,
   "metadata": {},
   "outputs": [],
   "source": [
    "# species\n",
    "\n",
    "sharks = ['white', 'bull', 'tiger', 'wobbegong', 'blue', 'mako', 'dusky', 'blacktip', \n",
    "          'hooked', 'Zambesi', 'grey nurse', 'silky', 'thresher', 'dogfish', \n",
    "         'Reef', 'Raggedtooth', 'Goblin', 'blacktip', 'Spinner', 'Porbeagle', \n",
    "         'Porbeagle', 'stingray']\n",
    " \n",
    "def shark_type(text): \n",
    "    text = str(text).lower()\n",
    "    for shark in sharks: \n",
    "        if shark in text: \n",
    "            return '{} shark'.format(shark)\n",
    "    else: \n",
    "        return text\n",
    "\n",
    "df['shark'] = df.species.apply(shark_type)"
   ]
  },
  {
   "cell_type": "code",
   "execution_count": 11,
   "metadata": {},
   "outputs": [
    {
     "data": {
      "text/plain": [
       "White shark                                                             161\n",
       "Shark involvement not confirmed                                          80\n",
       "Tiger shark                                                              68\n",
       "Bull shark                                                               52\n",
       "6' shark                                                                 40\n",
       "4' shark                                                                 39\n",
       "1.8 m [6'] shark                                                         35\n",
       "1.5 m [5'] shark                                                         32\n",
       "1.2 m [4'] shark                                                         27\n",
       "3' shark                                                                 25\n",
       "5' shark                                                                 25\n",
       "4' to 5' shark                                                           23\n",
       "3 m [10'] shark                                                          22\n",
       "2 m shark                                                                22\n",
       "No shark involvement                                                     21\n",
       "Wobbegong shark                                                          20\n",
       "3' to 4' shark                                                           18\n",
       "2.4 m [8'] shark                                                         16\n",
       "3 m shark                                                                16\n",
       "3.7 m [12'] shark                                                        15\n",
       "7' shark                                                                 14\n",
       "Blue shark                                                               14\n",
       "1.2 m to 1.5 m [4' to 5'] shark                                          14\n",
       "Blacktip shark                                                           14\n",
       "Mako shark                                                               14\n",
       "12' shark                                                                14\n",
       "1.5 m shark                                                              13\n",
       "\"a small shark\"                                                          13\n",
       "10' shark                                                                13\n",
       "5 m [16.5'] white shark                                                  13\n",
       "                                                                       ... \n",
       "Grey nurse shark, 8'                                                      1\n",
       "5.5' to 6' shark                                                          1\n",
       "White shark, 4.4 m to 5 m [14.5' to 16.5']                                1\n",
       "White shark, 2.1 m [7']                                                   1\n",
       "sand shark                                                                1\n",
       "Whaler shark, 2.7 m [9'], 350- to 450-lb  identified by G.P. Whitley      1\n",
       "White shark, 2m to 3 m                                                    1\n",
       "Lemon shark, 6'                                                           1\n",
       "4.5 m to 5.5 m [14.7' to 18'] white shark                                 1\n",
       "Shark involvement prior to death still to be determined                   1\n",
       "Raggedtooth shark, 56-kg [123-lb]                                         1\n",
       "Bronze whaler shark, 3 m                                                  1\n",
       "Said to involve a >4 m [13'] shark                                        1\n",
       "3 m [10'] blue whaler                                                     1\n",
       "Thought to involve a cookie cutter shark                                  1\n",
       "White shark, 3 m to 4 m [10' to 13']                                      1\n",
       "1.5' to 2' shark                                                          1\n",
       "Possibly juvenile tiger shark                                             1\n",
       "Grey reef shark, 2 m                                                      1\n",
       "2 small bull sharks                                                       1\n",
       "Lemon shark, 9'                                                           1\n",
       "Lemon shark, 30-lb                                                        1\n",
       "2 m [6'9\"] shark                                                          1\n",
       "White shark, 1,900-lb                                                     1\n",
       "White shark, 4 m [13'] rk                                                 1\n",
       "Bitten by several 1.8 m [6'] sharks                                       1\n",
       "Raggedtooth shark, 1.2 m to 1.5 m [4' to 5']                              1\n",
       "5 m [16.5'] white shark, identification by K. Nakaya                      1\n",
       "Whitetip reef shark, 1m                                                   1\n",
       "Bronze whaler shark, 2.5m                                                 1\n",
       "Name: species, Length: 1538, dtype: int64"
      ]
     },
     "execution_count": 11,
     "metadata": {},
     "output_type": "execute_result"
    }
   ],
   "source": [
    "df.species.value_counts()"
   ]
  },
  {
   "cell_type": "code",
   "execution_count": 12,
   "metadata": {},
   "outputs": [
    {
     "data": {
      "text/plain": [
       "Unprovoked      4386\n",
       "Provoked         557\n",
       "Invalid          519\n",
       "Sea Disaster     220\n",
       "Boat             200\n",
       "Boating          110\n",
       "Name: type, dtype: int64"
      ]
     },
     "execution_count": 12,
     "metadata": {},
     "output_type": "execute_result"
    }
   ],
   "source": [
    "# type\n",
    "\n",
    "def is_proveked(text): \n",
    "    return text.lower() == 'provoked'\n",
    "\n",
    "df.type.value_counts()"
   ]
  },
  {
   "cell_type": "code",
   "execution_count": null,
   "metadata": {},
   "outputs": [],
   "source": []
  }
 ],
 "metadata": {
  "kernelspec": {
   "display_name": "Python 3",
   "language": "python",
   "name": "python3"
  },
  "language_info": {
   "codemirror_mode": {
    "name": "ipython",
    "version": 3
   },
   "file_extension": ".py",
   "mimetype": "text/x-python",
   "name": "python",
   "nbconvert_exporter": "python",
   "pygments_lexer": "ipython3",
   "version": "3.6.8"
  }
 },
 "nbformat": 4,
 "nbformat_minor": 2
}
